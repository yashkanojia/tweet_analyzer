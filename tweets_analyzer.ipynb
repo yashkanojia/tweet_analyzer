{
  "nbformat": 4,
  "nbformat_minor": 0,
  "metadata": {
    "colab": {
      "name": "yashkanojia_2018372_section_2.ipynb",
      "provenance": [],
      "collapsed_sections": []
    },
    "kernelspec": {
      "display_name": "Python 3",
      "name": "python3"
    },
    "language_info": {
      "name": "python"
    }
  },
  "cells": [
    {
      "cell_type": "code",
      "metadata": {
        "colab": {
          "base_uri": "https://localhost:8080/"
        },
        "id": "BBhy7dMIbrDq",
        "outputId": "787bbebd-05d3-4267-9af7-06bf065508a8"
      },
      "source": [
        "#section 2  ------------> number of tweets\n",
        "import os\n",
        "import tweepy as tw\n",
        "import pandas as pd\n",
        "import csv\n",
        "access_key = \"3402453519-EuapUpj2uRl11sdCikkXvSibSMqmNgPUh4euf0Y\"\n",
        "access_secret = \"WcQHcRU0wa2wniT9EpB8HD3mBjpkOwNh5uYEqsAt4DTlt\"\n",
        "consumer_key = \"Ibf4U3tahEkoc5C4VOmLL3IeI\"\n",
        "consumer_secret = \"9qXJsfSHZDFpZtxhOz5Ku2IoLoJZwpamQVLejYjpkQJN5OFxp7\"\n",
        "auth = tw.OAuthHandler(consumer_key,consumer_secret)\n",
        "auth.set_access_token(access_key,set_access_token)\n",
        "api = tw.API(auth, wait_on_rate_limit=True)\n",
        "search_words = \"#RahulDravid\"\n",
        "date_since = \"2021-03-16\"\n",
        "csvFile1 = open('tweet1.csv', 'a')\n",
        "csvWriter1 = csv.writer(csvFile1)\n",
        "tweets = tw.Cursor(api.search,q=search_words,lang=\"en\",since=date_since).items(1500)  #data collected for arnab Goswami\n",
        "tweet=[]\n",
        "for i in tweets:\n",
        "  csvWriter1.writerow([i.created_at,i.id,i.text,i.favorite_count,i.retweet_count,i.id_reply])\n",
        "  tweet.append(i.text)\n",
        "print(len(tweet))\n",
        "csvFile1.close()"
      ],
      "execution_count": null,
      "outputs": [
        {
          "output_type": "stream",
          "text": [
            "632\n"
          ],
          "name": "stdout"
        }
      ]
    },
    {
      "cell_type": "code",
      "metadata": {
        "colab": {
          "base_uri": "https://localhost:8080/",
          "height": 405
        },
        "id": "4ylCH1zIKaP-",
        "outputId": "7617e08f-e42c-4d8c-b00b-272d9ba48f31"
      },
      "source": [
        "import re                       #top 10 hashtags extracted\n",
        "import nltk\n",
        "import pandas as pd\n",
        "import matplotlib.pyplot as plt\n",
        "\n",
        "\n",
        "dt=pd.read_csv('tweet1.csv')\n",
        "dt=pd.DataFrame(dt)\n",
        "dt.columns=['time','id','text','like','retweet']\n",
        "hashtags=[]\n",
        "for i in list(dt['text']):\n",
        "  x=str(i).lower()\n",
        "  htag=re.findall(r\"#(\\w+)\", x)\n",
        "  for j in htag:\n",
        "    hashtags.append(j)\n",
        "htagf=nltk.FreqDist(hashtags)\n",
        "df=pd.DataFrame(htagf.keys(),htagf.values()).reset_index()\n",
        "df.columns=['count','tag']\n",
        "dff=df.sort_values(by=['count'],ascending=False)\n",
        "c=list(dff['count'])\n",
        "t=list(dff['tag'])\n",
        "top10k=[]\n",
        "top10v=[]\n",
        "for i in range(11):\n",
        "  top10k.append(t[i])\n",
        "  top10v.append(c[i])\n",
        "plt.bar(top10k,top10v)\n",
        "plt.xticks(rotation=90)\n",
        "plt.xlabel('#tags')\n",
        "plt.ylabel('count')\n",
        "plt.title('most occuring #tags')"
      ],
      "execution_count": null,
      "outputs": [
        {
          "output_type": "execute_result",
          "data": {
            "text/plain": [
              "Text(0.5, 1.0, 'most occuring #tags')"
            ]
          },
          "metadata": {
            "tags": []
          },
          "execution_count": 19
        },
        {
          "output_type": "display_data",
          "data": {
            "image/png": "[encoded data removed]",
            "text/plain": [
              "<Figure size 432x288 with 1 Axes>"
            ]
          },
          "metadata": {
            "tags": [],
            "needs_background": "light"
          }
        }
      ]
    },
    {
      "cell_type": "code",
      "metadata": {
        "id": "7E6l60QpR1PC"
      },
      "source": [
        "#collecting the final tweets   ----> all tweets\n",
        "import csv\n",
        "import tweepy as tw\n",
        "\n",
        "finaltweets=[]\n",
        "for i in top10k:\n",
        "  search_words = \"#\"+i\n",
        "  date_since = \"2021-02-16\"\n",
        "  csvFile2 = open('tweet2.csv', 'a')\n",
        "  csvWriter2 = csv.writer(csvFile2)   \n",
        "  tweetss = tw.Cursor(api.search,q=search_words,lang=\"en\",since=date_since).items(600)\n",
        "  for j in tweetss:\n",
        "    csvWriter2.writerow([j.created_at,j.id,j.text,j.favorite_count,j.retweet_count])\n",
        "    finaltweets.append(j.text)\n",
        "csvFile2.close()\n",
        "print(\"done\")"
      ],
      "execution_count": null,
      "outputs": []
    },
    {
      "cell_type": "code",
      "metadata": {
        "id": "wuPyMbvzaQM4",
        "colab": {
          "base_uri": "https://localhost:8080/",
          "height": 407
        },
        "outputId": "aefa6f1b-0527-4e90-e856-b3a192ede0e2"
      },
      "source": [
        "import nltk\n",
        "import pandas as pd     #-----------------> most occuring #\n",
        "import matplotlib.pyplot as plt\n",
        "\n",
        "dts=pd.read_csv('tweet2.csv')\n",
        "dts=pd.DataFrame(dts)\n",
        "dts.columns=['time','id','text','like','retweet']\n",
        "allh=[]\n",
        "for i in list(dts['text']):\n",
        "  htags=re.findall(r\"#(\\w+)\", i)\n",
        "  for j in htags:\n",
        "    allh.append(j)\n",
        "fhh=nltk.FreqDist(allh)\n",
        "kk=list(fhh.keys())\n",
        "vv=list(fhh.values())\n",
        "d=pd.DataFrame(kk,vv).reset_index()\n",
        "d.columns=['c','h']\n",
        "dd=d.sort_values(by=['c'],ascending=False)\n",
        "topv=list(dd['c'])\n",
        "topk=list(dd['h'])\n",
        "mostoccurk=[]\n",
        "mostoccurv=[]\n",
        "for i in range(0,11):\n",
        "  mostoccurk.append(topk[i])\n",
        "  mostoccurv.append(topv[i])\n",
        "plt.bar(mostoccurk,mostoccurv)\n",
        "plt.xticks(rotation=90)\n",
        "plt.xlabel('#tags')\n",
        "plt.ylabel('count')\n",
        "plt.title('most liked #tags ')"
      ],
      "execution_count": null,
      "outputs": [
        {
          "output_type": "execute_result",
          "data": {
            "text/plain": [
              "Text(0.5, 1.0, 'most liked #tags ')"
            ]
          },
          "metadata": {
            "tags": []
          },
          "execution_count": 18
        },
        {
          "output_type": "display_data",
          "data": {
            "image/png": "[encoded data removed]",
            "text/plain": [
              "<Figure size 432x288 with 1 Axes>"
            ]
          },
          "metadata": {
            "tags": [],
            "needs_background": "light"
          }
        }
      ]
    },
    {
      "cell_type": "code",
      "metadata": {
        "colab": {
          "base_uri": "https://localhost:8080/",
          "height": 405
        },
        "id": "CiS9AihTrwZe",
        "outputId": "707bea39-307d-406f-dd5f-ef61dc22b3a1"
      },
      "source": [
        "liked=pd.read_csv('tweet2.csv')   #----------------> most liked hashtags #\n",
        "ldata=pd.DataFrame(liked)\n",
        "ldata.columns=['date','id','text','like','re']\n",
        "lldata=ldata.sort_values(by=['like'],ascending=False)\n",
        "ltext=list(lldata['text'])\n",
        "likes=list(lldata['like'])\n",
        "mostliked=[]\n",
        "count=[]\n",
        "for i in range(0,20):\n",
        "  htags=re.findall(r\"#(\\w+)\", str(ltext[i]).lower())\n",
        "  for j in htags:\n",
        "    if(j not in mostliked):\n",
        "      mostliked.append(j)\n",
        "      mostliked.append(likes[i])\n",
        "k=[]\n",
        "v=[]\n",
        "for i in range(0,len(mostliked),2):\n",
        "  k.append(mostliked[i])\n",
        "for i in range(1,len(mostliked),2):\n",
        "  v.append(mostliked[i])\n",
        "f=[]\n",
        "ff=[]\n",
        "for i in range(0,10):\n",
        "  f.append(k[i])\n",
        "  ff.append(v[i])\n",
        "for i in range(len(ff)):\n",
        "  ff[i]=ff[i]*10\n",
        "plt.bar(f,ff)\n",
        "plt.xticks(rotation=90)\n",
        "plt.xlabel('#tags')\n",
        "plt.ylabel('count')\n",
        "plt.title('#tags vs retweets')"
      ],
      "execution_count": null,
      "outputs": [
        {
          "output_type": "execute_result",
          "data": {
            "text/plain": [
              "Text(0.5, 1.0, '#tags vs retweets')"
            ]
          },
          "metadata": {
            "tags": []
          },
          "execution_count": 20
        },
        {
          "output_type": "display_data",
          "data": {
            "image/png": "[encoded data removed]",
            "text/plain": [
              "<Figure size 432x288 with 1 Axes>"
            ]
          },
          "metadata": {
            "tags": [],
            "needs_background": "light"
          }
        }
      ]
    },
    {
      "cell_type": "code",
      "metadata": {
        "id": "ntn9SxOSAKmK"
      },
      "source": [
        ""
      ],
      "execution_count": null,
      "outputs": []
    }
  ]
}